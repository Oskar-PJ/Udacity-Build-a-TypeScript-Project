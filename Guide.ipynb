{
 "cells": [
  {
   "cell_type": "markdown",
   "metadata": {
    "editable": true
   },
   "source": [
    "# Instructions\n",
    "\n",
    "Create an `NPM` project that uses TypeScript. \n",
    "\n",
    "Configure TypeScript and add a script to build your production version. The `index.ts` already exists in the src folder. Run your TypeScript file to ensure that it works.\n",
    "\n",
    "Run your build script and analyze the output. \n"
   ]
  },
  {
   "cell_type": "markdown",
   "metadata": {
    "editable": true
   },
   "source": [
    "### Note: \n",
    "- To open your typescript configuration file, you must right click on the file and select `Open With > Editor`. Double clicking will attempt to open the json file in view mode which will produce an error due to the comments within the file not being valid JSON. But don't worry, those comments were put there by Microsoft and your configuration will work.\n",
    "- Typescript version 4.5.5 is working with the current node version.\n",
    "To initialize the Workspace, click the `SET UP WORKSPACE` button."
   ]
  },
  {
   "cell_type": "markdown",
   "metadata": {
    "editable": true,
    "ulab": {
     "buttons": {
      "ulab-button-1cf03f50": {
       "bashCommand": "source setup_bash.sh",
       "filesToOpen": [],
       "isPreviewButton": false,
       "runInBackground": false,
       "style": "primary",
       "text": "SET UP WORKSPACE",
       "toggleOffText": "HIDE SOLUTION",
       "toggleOnText": "SHOW SOLUTION"
      }
     }
    }
   },
   "source": [
    "<button id=\"ulab-button-1cf03f50\" class=\"ulab-btn--primary\"></button>"
   ]
  }
 ],
 "metadata": {
  "kernelspec": {
   "display_name": "Python 3",
   "language": "python",
   "name": "python3"
  },
  "language_info": {
   "codemirror_mode": {
    "name": "ipython",
    "version": 3
   },
   "file_extension": ".py",
   "mimetype": "text/x-python",
   "name": "python",
   "nbconvert_exporter": "python",
   "pygments_lexer": "ipython3",
   "version": "3.6.3"
  },
  "ulab_nb_type": "guided"
 },
 "nbformat": 4,
 "nbformat_minor": 4
}
